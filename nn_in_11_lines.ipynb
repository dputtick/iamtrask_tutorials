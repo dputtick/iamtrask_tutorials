{
 "cells": [
  {
   "cell_type": "code",
   "execution_count": 1,
   "metadata": {
    "collapsed": true
   },
   "outputs": [],
   "source": [
    "%matplotlib inline"
   ]
  },
  {
   "cell_type": "code",
   "execution_count": 2,
   "metadata": {
    "collapsed": false,
    "scrolled": true
   },
   "outputs": [],
   "source": [
    "import numpy as np"
   ]
  },
  {
   "cell_type": "code",
   "execution_count": 3,
   "metadata": {
    "collapsed": true
   },
   "outputs": [],
   "source": [
    "import matplotlib.pyplot as plt"
   ]
  },
  {
   "cell_type": "code",
   "execution_count": 4,
   "metadata": {
    "collapsed": true
   },
   "outputs": [],
   "source": [
    "#nonlinear function for evaluating error\n",
    "def nonlin(x, derivative=False):\n",
    "    if derivative:\n",
    "        return x * (1 - x)\n",
    "    return 1 / (1 + np.exp(-x))"
   ]
  },
  {
   "cell_type": "code",
   "execution_count": 5,
   "metadata": {
    "collapsed": false
   },
   "outputs": [
    {
     "data": {
      "image/png": "[encoded data removed]",
      "text/plain": [
       "<matplotlib.figure.Figure at 0x114e7e0f0>"
      ]
     },
     "metadata": {},
     "output_type": "display_data"
    }
   ],
   "source": [
    "test_linspace = np.linspace(-6, 6, 100)\n",
    "curve = nonlin(test_linspace)\n",
    "#other_nonlin_curve = test_linspace / np.sqrt(1 + test_linspace**2)\n",
    "\n",
    "plt.plot(test_linspace, curve)\n",
    "#plt.plot(test_linspace, other_nonlin_curve)\n",
    "\n",
    "plt.show()"
   ]
  },
  {
   "cell_type": "code",
   "execution_count": 6,
   "metadata": {
    "collapsed": false
   },
   "outputs": [],
   "source": [
    "X = np.array([[0, 0, 1],\n",
    "              [0, 1, 1],\n",
    "              [1, 0, 1],\n",
    "              [1, 1, 1]])\n",
    "\n",
    "output = np.array([[0],\n",
    "                   [0],\n",
    "                   [1],\n",
    "                   [1]])"
   ]
  },
  {
   "cell_type": "code",
   "execution_count": 7,
   "metadata": {
    "collapsed": true
   },
   "outputs": [],
   "source": [
    "np.random.seed(1)"
   ]
  },
  {
   "cell_type": "code",
   "execution_count": 8,
   "metadata": {
    "collapsed": true
   },
   "outputs": [],
   "source": [
    "# 3 by 1 matrix with random floats -1 <= x < 1\n",
    "synapse0 = 2 * np.random.random((3,1)) - 1"
   ]
  },
  {
   "cell_type": "code",
   "execution_count": 9,
   "metadata": {
    "collapsed": false
   },
   "outputs": [
    {
     "name": "stdout",
     "output_type": "stream",
     "text": [
      "[[ 0.00966449]\n",
      " [ 0.00786506]\n",
      " [ 0.99358898]\n",
      " [ 0.99211957]]\n"
     ]
    }
   ],
   "source": [
    "for iteration in range(10000):\n",
    "    layer0 = X\n",
    "    #print(\"Layer 0: \", layer0)\n",
    "    #print(\"Synapse 0: \", synapse0)\n",
    "    layer1 = np.dot(layer0, synapse0)\n",
    "    layer1_normalized = nonlin(layer1)\n",
    "    #print(\"Layer1: \", layer1_regularized)\n",
    "    layer1_error = output - layer1_normalized\n",
    "    #print(\"Error: \", layer1_error)\n",
    "    layer1_delta = layer1_error * nonlin(layer1_normalized, True)\n",
    "    #print(\"Delta: \", layer1_delta)\n",
    "    synapse0 += np.dot(layer0.T, layer1_delta)\n",
    "    #print(\"Synapse 0 changed: \", synapse0)\n",
    "\n",
    "print(layer1_normalized)"
   ]
  }
 ],
 "metadata": {
  "kernelspec": {
   "display_name": "Python 3",
   "language": "python",
   "name": "python3"
  },
  "language_info": {
   "codemirror_mode": {
    "name": "ipython",
    "version": 3
   },
   "file_extension": ".py",
   "mimetype": "text/x-python",
   "name": "python",
   "nbconvert_exporter": "python",
   "pygments_lexer": "ipython3",
   "version": "3.5.1"
  }
 },
 "nbformat": 4,
 "nbformat_minor": 0
}
